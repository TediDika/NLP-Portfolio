{
  "nbformat": 4,
  "nbformat_minor": 0,
  "metadata": {
    "colab": {
      "provenance": []
    },
    "kernelspec": {
      "name": "python3",
      "display_name": "Python 3"
    },
    "language_info": {
      "name": "python"
    }
  },
  "cells": [
    {
      "cell_type": "markdown",
      "source": [
        "\n",
        "```\n",
        "Assignment 3 - WordNet\n",
        "Tedi Dika\n",
        "txd190008\n",
        "2/24/2023\n",
        "```"
      ],
      "metadata": {
        "id": "93fdoL_wyOFx"
      }
    },
    {
      "cell_type": "markdown",
      "source": [
        "WordNet is a database that contains Glosses, Sysnets, Use examples and relations for words. We can use it to allow machines to understand relationships between text and perform functions like word similarity, sentiment analysis, and collocation identification."
      ],
      "metadata": {
        "id": "Q3Ed6VdKCDg8"
      }
    },
    {
      "cell_type": "code",
      "execution_count": null,
      "metadata": {
        "id": "6O7qzRZt5RZo"
      },
      "outputs": [],
      "source": [
        "import nltk\n",
        "nltk.download('all')\n",
        "from nltk.corpus import wordnet as wn"
      ]
    },
    {
      "cell_type": "markdown",
      "source": [
        "Synsets of the noun 'shake'"
      ],
      "metadata": {
        "id": "iW6l-B7-HEca"
      }
    },
    {
      "cell_type": "code",
      "source": [
        "wn.synsets('shake')"
      ],
      "metadata": {
        "colab": {
          "base_uri": "https://localhost:8080/"
        },
        "id": "lkOblxA6HIKv",
        "outputId": "6e6ba0eb-a5e3-4044-a588-1747a1e3490e"
      },
      "execution_count": 2,
      "outputs": [
        {
          "output_type": "execute_result",
          "data": {
            "text/plain": [
              "[Synset('shingle.n.01'),\n",
              " Synset('milkshake.n.01'),\n",
              " Synset('trill.n.01'),\n",
              " Synset('handshake.n.01'),\n",
              " Synset('tremble.n.01'),\n",
              " Synset('wag.n.02'),\n",
              " Synset('shake.v.01'),\n",
              " Synset('shake.v.02'),\n",
              " Synset('judder.v.01'),\n",
              " Synset('rock.v.01'),\n",
              " Synset('shake.v.05'),\n",
              " Synset('stimulate.v.03'),\n",
              " Synset('shake.v.07'),\n",
              " Synset('shake.v.08'),\n",
              " Synset('shake.v.09')]"
            ]
          },
          "metadata": {},
          "execution_count": 2
        }
      ]
    },
    {
      "cell_type": "markdown",
      "source": [
        "Extracting defintion, usage example, and lemma of 'milkshake.n.01'"
      ],
      "metadata": {
        "id": "J4MUlfiAKD3Z"
      }
    },
    {
      "cell_type": "code",
      "source": [
        "wn.synset('milkshake.n.01').definition()"
      ],
      "metadata": {
        "id": "JbokMUPvLwLh",
        "colab": {
          "base_uri": "https://localhost:8080/",
          "height": 35
        },
        "outputId": "ed88f05a-5d74-4388-f2e4-395540d6ce16"
      },
      "execution_count": 3,
      "outputs": [
        {
          "output_type": "execute_result",
          "data": {
            "text/plain": [
              "'frothy drink of milk and flavoring and sometimes fruit or ice cream'"
            ],
            "application/vnd.google.colaboratory.intrinsic+json": {
              "type": "string"
            }
          },
          "metadata": {},
          "execution_count": 3
        }
      ]
    },
    {
      "cell_type": "code",
      "source": [
        "wn.synset('milkshake.n.01').examples()"
      ],
      "metadata": {
        "colab": {
          "base_uri": "https://localhost:8080/"
        },
        "id": "WqG6FIEkMpjI",
        "outputId": "a748b014-c52c-4c18-ff8d-f9bf518b1bad"
      },
      "execution_count": 4,
      "outputs": [
        {
          "output_type": "execute_result",
          "data": {
            "text/plain": [
              "[]"
            ]
          },
          "metadata": {},
          "execution_count": 4
        }
      ]
    },
    {
      "cell_type": "code",
      "source": [
        "wn.synset('milkshake.n.01').lemmas()"
      ],
      "metadata": {
        "colab": {
          "base_uri": "https://localhost:8080/"
        },
        "id": "AT1RFJveMt_G",
        "outputId": "8a4aca12-41c4-4118-c7b0-484a5bec8dd7"
      },
      "execution_count": 5,
      "outputs": [
        {
          "output_type": "execute_result",
          "data": {
            "text/plain": [
              "[Lemma('milkshake.n.01.milkshake'),\n",
              " Lemma('milkshake.n.01.milk_shake'),\n",
              " Lemma('milkshake.n.01.shake')]"
            ]
          },
          "metadata": {},
          "execution_count": 5
        }
      ]
    },
    {
      "cell_type": "markdown",
      "source": [
        "Traversing up the hierarchy for 'milkshake.n.01'"
      ],
      "metadata": {
        "id": "Otf6RTvNN0jN"
      }
    },
    {
      "cell_type": "code",
      "source": [
        "hyp = wn.synset('milkshake.n.01').hypernyms()[0]\n",
        "top = wn.synset('entity.n.01')\n",
        "while hyp:\n",
        "    print(hyp)\n",
        "    if hyp == top:\n",
        "        break\n",
        "    if hyp.hypernyms():\n",
        "        hyp = hyp.hypernyms()[0]"
      ],
      "metadata": {
        "colab": {
          "base_uri": "https://localhost:8080/"
        },
        "id": "puETsFxRO9Fq",
        "outputId": "f48d3532-d4e9-4ca7-e869-e96dfec96105"
      },
      "execution_count": 6,
      "outputs": [
        {
          "output_type": "stream",
          "name": "stdout",
          "text": [
            "Synset('drink.n.01')\n",
            "Synset('helping.n.01')\n",
            "Synset('small_indefinite_quantity.n.01')\n",
            "Synset('indefinite_quantity.n.01')\n",
            "Synset('measure.n.02')\n",
            "Synset('abstraction.n.06')\n",
            "Synset('entity.n.01')\n"
          ]
        }
      ]
    },
    {
      "cell_type": "markdown",
      "source": [
        "I was surprised there weren't more synsets before 'drink.' I thought the hierarchy would be a little more detailed, and have something like 'desert' before 'drink.' Besides that the hierachy makes sense. Its interesting that there is a disctintion made between a small indefinite quantiy and an indefinite quantity. It seems all nouns will lead to the 'entity' synset."
      ],
      "metadata": {
        "id": "smMezMQNPe7W"
      }
    },
    {
      "cell_type": "markdown",
      "source": [
        "Outputting hypernyms, hyponyms, meronyms, holonyms, and antonym."
      ],
      "metadata": {
        "id": "HH-h8s6MQ3cB"
      }
    },
    {
      "cell_type": "code",
      "source": [
        "wn.synset('milkshake.n.01').hypernyms()"
      ],
      "metadata": {
        "colab": {
          "base_uri": "https://localhost:8080/"
        },
        "id": "u2fTG6q_RAeP",
        "outputId": "25bdf403-88b5-480d-c849-9fce572c5252"
      },
      "execution_count": 7,
      "outputs": [
        {
          "output_type": "execute_result",
          "data": {
            "text/plain": [
              "[Synset('drink.n.01')]"
            ]
          },
          "metadata": {},
          "execution_count": 7
        }
      ]
    },
    {
      "cell_type": "code",
      "source": [
        "wn.synset('milkshake.n.01').hyponyms()"
      ],
      "metadata": {
        "colab": {
          "base_uri": "https://localhost:8080/"
        },
        "id": "BWndnnbvRSDP",
        "outputId": "fdfbe33d-3690-4144-ddbc-8e27ab80e29c"
      },
      "execution_count": 8,
      "outputs": [
        {
          "output_type": "execute_result",
          "data": {
            "text/plain": [
              "[Synset('eggshake.n.01'), Synset('frappe.n.02'), Synset('malted.n.01')]"
            ]
          },
          "metadata": {},
          "execution_count": 8
        }
      ]
    },
    {
      "cell_type": "code",
      "source": [
        "wn.synset('milkshake.n.01').part_meronyms()"
      ],
      "metadata": {
        "colab": {
          "base_uri": "https://localhost:8080/"
        },
        "id": "kk9Ea1U8RR32",
        "outputId": "0ca45fb1-4596-4133-c3c4-ed97a3219d49"
      },
      "execution_count": 9,
      "outputs": [
        {
          "output_type": "execute_result",
          "data": {
            "text/plain": [
              "[]"
            ]
          },
          "metadata": {},
          "execution_count": 9
        }
      ]
    },
    {
      "cell_type": "code",
      "source": [
        "wn.synset('milkshake.n.01').part_holonyms()"
      ],
      "metadata": {
        "colab": {
          "base_uri": "https://localhost:8080/"
        },
        "id": "8jWam4jFRRco",
        "outputId": "dd9d8ce0-3d43-4c15-8403-4a2997ffe36f"
      },
      "execution_count": 10,
      "outputs": [
        {
          "output_type": "execute_result",
          "data": {
            "text/plain": [
              "[]"
            ]
          },
          "metadata": {},
          "execution_count": 10
        }
      ]
    },
    {
      "cell_type": "code",
      "source": [
        "wn.synset('milkshake.n.01').lemmas()[0].antonyms()"
      ],
      "metadata": {
        "colab": {
          "base_uri": "https://localhost:8080/"
        },
        "id": "UHyQSTIeST33",
        "outputId": "ec34993e-6ba4-4b6c-8d36-2315f59710c2"
      },
      "execution_count": 11,
      "outputs": [
        {
          "output_type": "execute_result",
          "data": {
            "text/plain": [
              "[]"
            ]
          },
          "metadata": {},
          "execution_count": 11
        }
      ]
    },
    {
      "cell_type": "markdown",
      "source": [
        "Synsets of the verb 'jump'"
      ],
      "metadata": {
        "id": "yc5p2A7nTB6q"
      }
    },
    {
      "cell_type": "code",
      "source": [
        "wn.synsets('jump')"
      ],
      "metadata": {
        "colab": {
          "base_uri": "https://localhost:8080/"
        },
        "id": "0_NGE_kxTEZR",
        "outputId": "4ffbe4c1-8c0a-43b6-a59c-3ba1ecc6baee"
      },
      "execution_count": 12,
      "outputs": [
        {
          "output_type": "execute_result",
          "data": {
            "text/plain": [
              "[Synset('jump.n.01'),\n",
              " Synset('leap.n.02'),\n",
              " Synset('jump.n.03'),\n",
              " Synset('startle.n.01'),\n",
              " Synset('jump.n.05'),\n",
              " Synset('jump.n.06'),\n",
              " Synset('jump.v.01'),\n",
              " Synset('startle.v.02'),\n",
              " Synset('jump.v.03'),\n",
              " Synset('jump.v.04'),\n",
              " Synset('leap_out.v.01'),\n",
              " Synset('jump.v.06'),\n",
              " Synset('rise.v.11'),\n",
              " Synset('jump.v.08'),\n",
              " Synset('derail.v.02'),\n",
              " Synset('chute.v.01'),\n",
              " Synset('jump.v.11'),\n",
              " Synset('jumpstart.v.01'),\n",
              " Synset('jump.v.13'),\n",
              " Synset('leap.v.02'),\n",
              " Synset('alternate.v.01')]"
            ]
          },
          "metadata": {},
          "execution_count": 12
        }
      ]
    },
    {
      "cell_type": "markdown",
      "source": [
        "Extracting defintion, usage example, and lemma of 'jump.v.01'"
      ],
      "metadata": {
        "id": "m1m1CIXYTpnD"
      }
    },
    {
      "cell_type": "code",
      "source": [
        "wn.synset('jump.v.01').definition()"
      ],
      "metadata": {
        "colab": {
          "base_uri": "https://localhost:8080/",
          "height": 35
        },
        "id": "qRtg-9NRTtXt",
        "outputId": "44fa89a9-39c2-4ac8-9cc2-56c58257a4e8"
      },
      "execution_count": 13,
      "outputs": [
        {
          "output_type": "execute_result",
          "data": {
            "text/plain": [
              "'move forward by leaps and bounds'"
            ],
            "application/vnd.google.colaboratory.intrinsic+json": {
              "type": "string"
            }
          },
          "metadata": {},
          "execution_count": 13
        }
      ]
    },
    {
      "cell_type": "code",
      "source": [
        "wn.synset('jump.v.01').examples()"
      ],
      "metadata": {
        "colab": {
          "base_uri": "https://localhost:8080/"
        },
        "id": "zogr3t6QTwlp",
        "outputId": "66ae65fa-983b-4802-e133-22455baeb568"
      },
      "execution_count": 14,
      "outputs": [
        {
          "output_type": "execute_result",
          "data": {
            "text/plain": [
              "['The horse bounded across the meadow',\n",
              " 'The child leapt across the puddle',\n",
              " 'Can you jump over the fence?']"
            ]
          },
          "metadata": {},
          "execution_count": 14
        }
      ]
    },
    {
      "cell_type": "code",
      "source": [
        "wn.synset('jump.v.01').lemmas()"
      ],
      "metadata": {
        "colab": {
          "base_uri": "https://localhost:8080/"
        },
        "id": "LljHKjraTw1W",
        "outputId": "0009618a-303f-48e7-a591-d3ed2e418f51"
      },
      "execution_count": 15,
      "outputs": [
        {
          "output_type": "execute_result",
          "data": {
            "text/plain": [
              "[Lemma('jump.v.01.jump'),\n",
              " Lemma('jump.v.01.leap'),\n",
              " Lemma('jump.v.01.bound'),\n",
              " Lemma('jump.v.01.spring')]"
            ]
          },
          "metadata": {},
          "execution_count": 15
        }
      ]
    },
    {
      "cell_type": "markdown",
      "source": [
        "Traversing up the hierarchy for 'jump.v.01'"
      ],
      "metadata": {
        "id": "BnXkZ673UhyJ"
      }
    },
    {
      "cell_type": "code",
      "source": [
        "hyp = wn.synset('jump.v.01').hypernyms()[0]\n",
        "for i in range(0, 3):\n",
        "  print(hyp)\n",
        "  if hyp.hypernyms():\n",
        "    hyp = hyp.hypernyms()[0]"
      ],
      "metadata": {
        "colab": {
          "base_uri": "https://localhost:8080/"
        },
        "id": "6BhZhu1OUkw3",
        "outputId": "6698f85a-4010-40f7-951f-e09d49ad6017"
      },
      "execution_count": 16,
      "outputs": [
        {
          "output_type": "stream",
          "name": "stdout",
          "text": [
            "Synset('move.v.03')\n",
            "Synset('move.v.03')\n",
            "Synset('move.v.03')\n"
          ]
        }
      ]
    },
    {
      "cell_type": "markdown",
      "source": [
        "I think since there are so many movement verbs in the english language they are all categorized under 'move' for the sake of simplicity. Although I originally thought there would be more complexity to the hierachy."
      ],
      "metadata": {
        "id": "0QJ6VlgbY5Ps"
      }
    },
    {
      "cell_type": "markdown",
      "source": [
        "Using morphy to find different forms of the word 'jump'"
      ],
      "metadata": {
        "id": "L1d32ik9aMOt"
      }
    },
    {
      "cell_type": "code",
      "source": [
        "wn.morphy('jumping', wn.VERB)"
      ],
      "metadata": {
        "colab": {
          "base_uri": "https://localhost:8080/",
          "height": 35
        },
        "id": "SiJDOmh0ZJqD",
        "outputId": "c3fce317-50a5-441c-c5ca-cbe71771f841"
      },
      "execution_count": 17,
      "outputs": [
        {
          "output_type": "execute_result",
          "data": {
            "text/plain": [
              "'jump'"
            ],
            "application/vnd.google.colaboratory.intrinsic+json": {
              "type": "string"
            }
          },
          "metadata": {},
          "execution_count": 17
        }
      ]
    },
    {
      "cell_type": "code",
      "source": [
        "wn.morphy('jumped', wn.VERB)"
      ],
      "metadata": {
        "colab": {
          "base_uri": "https://localhost:8080/",
          "height": 35
        },
        "id": "j2_UYbgdaVZr",
        "outputId": "bf9cd321-3256-447e-da04-3b707eab7bcf"
      },
      "execution_count": 18,
      "outputs": [
        {
          "output_type": "execute_result",
          "data": {
            "text/plain": [
              "'jump'"
            ],
            "application/vnd.google.colaboratory.intrinsic+json": {
              "type": "string"
            }
          },
          "metadata": {},
          "execution_count": 18
        }
      ]
    },
    {
      "cell_type": "code",
      "source": [
        "wn.morphy('jumps', wn.VERB)"
      ],
      "metadata": {
        "colab": {
          "base_uri": "https://localhost:8080/",
          "height": 35
        },
        "id": "9vhQB--FahPc",
        "outputId": "88a53886-05b5-48bc-a32c-8489b40cf14f"
      },
      "execution_count": 19,
      "outputs": [
        {
          "output_type": "execute_result",
          "data": {
            "text/plain": [
              "'jump'"
            ],
            "application/vnd.google.colaboratory.intrinsic+json": {
              "type": "string"
            }
          },
          "metadata": {},
          "execution_count": 19
        }
      ]
    },
    {
      "cell_type": "markdown",
      "source": [
        "Testing the similarity between 'dinosaur' and 'bird' using the Wu-Palmer similarity metric."
      ],
      "metadata": {
        "id": "RCpFRMsgO7oH"
      }
    },
    {
      "cell_type": "code",
      "source": [
        "dinosaur = wn.synset('dinosaur.n.01')\n",
        "bird = wn.synset('bird.n.01')\n",
        "wn.wup_similarity(dinosaur, bird)"
      ],
      "metadata": {
        "colab": {
          "base_uri": "https://localhost:8080/"
        },
        "id": "Vq9_HKufPKlB",
        "outputId": "1fab711b-7cfc-4f5e-d31a-ecfd308259fd"
      },
      "execution_count": 26,
      "outputs": [
        {
          "output_type": "execute_result",
          "data": {
            "text/plain": [
              "0.782608695652174"
            ]
          },
          "metadata": {},
          "execution_count": 26
        }
      ]
    },
    {
      "cell_type": "markdown",
      "source": [
        "Running the Lesk algorithm"
      ],
      "metadata": {
        "id": "RviC3ZwSRrUm"
      }
    },
    {
      "cell_type": "code",
      "source": [
        "from nltk.wsd import lesk\n",
        "context = ['The', 'modern', 'day', 'bird', 'descended', 'from', 'a', 'dinosaur', '.']\n",
        "print(lesk(context, 'dinosaur'))\n",
        "print(lesk(context, 'bird'))"
      ],
      "metadata": {
        "colab": {
          "base_uri": "https://localhost:8080/"
        },
        "id": "MYXQXbzmRuXb",
        "outputId": "54ee8080-fd09-47ff-a573-14a5b447c314"
      },
      "execution_count": 30,
      "outputs": [
        {
          "output_type": "stream",
          "name": "stdout",
          "text": [
            "Synset('dinosaur.n.01')\n",
            "Synset('bird.n.02')\n"
          ]
        }
      ]
    },
    {
      "cell_type": "code",
      "source": [
        "print(wn.synset('dinosaur.n.01').definition())\n",
        "print(wn.synset('bird.n.02').definition())"
      ],
      "metadata": {
        "colab": {
          "base_uri": "https://localhost:8080/"
        },
        "id": "pewH2ihUT8ow",
        "outputId": "4370df60-bbfa-4420-af5d-e8b705ca7c7d"
      },
      "execution_count": 31,
      "outputs": [
        {
          "output_type": "stream",
          "name": "stdout",
          "text": [
            "any of numerous extinct terrestrial reptiles of the Mesozoic era\n",
            "the flesh of a bird or fowl (wild or domestic) used as food\n"
          ]
        }
      ]
    },
    {
      "cell_type": "markdown",
      "source": [
        "The Wu-Palmer similarity metric is almost perfectly accurate. I excpected the result to be not too high but not too low and the algorithm did just that. I assume they both fall under a similar category such as 'reptile.' The Lesk algorithm on the other hand, got the correct synset for dinosaur, but the incorrect synset for bird. This shows that the Lesk algorithm has some limitations."
      ],
      "metadata": {
        "id": "B7zdjMwsUKNU"
      }
    },
    {
      "cell_type": "markdown",
      "source": [
        "SentiWordNet is a lexical resource apart of WordNet that provides sentiment scores for a word's synset. It assigns 3 different scores for a sysnet: positivity, negativity, and objectivity. SentiWordNet can be used for sentiment analysis on text."
      ],
      "metadata": {
        "id": "CI8mJaenV_nj"
      }
    },
    {
      "cell_type": "code",
      "source": [
        "from nltk.corpus import sentiwordnet as swn\n",
        "\n",
        "sexism = swn.senti_synset('sexism.n.01')\n",
        "print(\"Positive score = \", sexism.pos_score())\n",
        "print(\"Negative score = \", sexism.neg_score())\n",
        "print(\"Objective score = \", sexism.obj_score())"
      ],
      "metadata": {
        "colab": {
          "base_uri": "https://localhost:8080/"
        },
        "id": "BCfkL28GYcv8",
        "outputId": "f3dd36fe-de13-4e8a-a909-f0e547e3f491"
      },
      "execution_count": 64,
      "outputs": [
        {
          "output_type": "stream",
          "name": "stdout",
          "text": [
            "Positive score =  0.0\n",
            "Negative score =  0.25\n",
            "Objective score =  0.75\n"
          ]
        }
      ]
    },
    {
      "cell_type": "code",
      "source": [
        "sentence = \"The lumberjack viciously chopped down a tree\"\n",
        "tokens = nltk.word_tokenize(sentence)\n",
        "\n",
        "for t in tokens:\n",
        "  if len(wn.synsets(t)) > 0:\n",
        "    syn_list = list(swn.senti_synsets(t))\n",
        "    if syn_list:\n",
        "      syn = syn_list[0]\n",
        "      print(\"Polarity for:  \" + t)\n",
        "      print(\"Positive score = \", syn.pos_score())\n",
        "      print(\"Negative score = \", syn.neg_score())\n",
        "      print(\"Objective score = \", syn.obj_score())"
      ],
      "metadata": {
        "colab": {
          "base_uri": "https://localhost:8080/"
        },
        "id": "R6svGrEGa5yR",
        "outputId": "c564b790-5f8e-4c4d-d568-8f04133e4294"
      },
      "execution_count": 62,
      "outputs": [
        {
          "output_type": "stream",
          "name": "stdout",
          "text": [
            "Polarity for:  lumberjack\n",
            "Positive score =  0.0\n",
            "Negative score =  0.0\n",
            "Objective score =  1.0\n",
            "Polarity for:  viciously\n",
            "Positive score =  0.25\n",
            "Negative score =  0.0\n",
            "Objective score =  0.75\n",
            "Polarity for:  chopped\n",
            "Positive score =  0.0\n",
            "Negative score =  0.0\n",
            "Objective score =  1.0\n",
            "Polarity for:  down\n",
            "Positive score =  0.125\n",
            "Negative score =  0.0\n",
            "Objective score =  0.875\n",
            "Polarity for:  a\n",
            "Positive score =  0.0\n",
            "Negative score =  0.0\n",
            "Objective score =  1.0\n",
            "Polarity for:  tree\n",
            "Positive score =  0.0\n",
            "Negative score =  0.0\n",
            "Objective score =  1.0\n"
          ]
        }
      ]
    },
    {
      "cell_type": "markdown",
      "source": [
        "Some of the SentiWordNet sentiment scores confused me. For one, it rated the word 'sexism' as only partly negative. It also rated the word 'viciously' as positive, which I found strange since usually that word has negative connotations. Perhaps SentiWordNet would be more accurate if there was more context provided. These sentiment scores could be used in a NLP application to perform sentiment analyis. It could be used on something like social media to determine things like advertising sentiment, or public approval ratings."
      ],
      "metadata": {
        "id": "x6VIYyrteaR-"
      }
    },
    {
      "cell_type": "markdown",
      "source": [
        "Collocations are words that frequently appear together that form a meaning different from the sum of its parts. One example of this would be 'saving time.' Looking at the words individually would give a different meaning than looking at the words as a whole. Additionaly, you cannot substiute a word and get the same meaning i.e. 'rescuing time.' It is important for NLP applications to consider collocations in order to derive a more accurate meaning from text."
      ],
      "metadata": {
        "id": "jDNwfjPapSR4"
      }
    },
    {
      "cell_type": "code",
      "source": [
        "import math\n",
        "from nltk.book import text4\n",
        "print(text4.collocations())"
      ],
      "metadata": {
        "colab": {
          "base_uri": "https://localhost:8080/"
        },
        "id": "y_miGiv8f8sW",
        "outputId": "d8a676d3-7731-4afe-b43f-cf8c98003cd3"
      },
      "execution_count": 65,
      "outputs": [
        {
          "output_type": "stream",
          "name": "stdout",
          "text": [
            "*** Introductory Examples for the NLTK Book ***\n",
            "Loading text1, ..., text9 and sent1, ..., sent9\n",
            "Type the name of the text or sentence to view it.\n",
            "Type: 'texts()' or 'sents()' to list the materials.\n",
            "text1: Moby Dick by Herman Melville 1851\n",
            "text2: Sense and Sensibility by Jane Austen 1811\n",
            "text3: The Book of Genesis\n",
            "text4: Inaugural Address Corpus\n",
            "text5: Chat Corpus\n",
            "text6: Monty Python and the Holy Grail\n",
            "text7: Wall Street Journal\n",
            "text8: Personals Corpus\n",
            "text9: The Man Who Was Thursday by G . K . Chesterton 1908\n",
            "United States; fellow citizens; years ago; four years; Federal\n",
            "Government; General Government; American people; Vice President; God\n",
            "bless; Chief Justice; one another; fellow Americans; Old World;\n",
            "Almighty God; Fellow citizens; Chief Magistrate; every citizen; Indian\n",
            "tribes; public debt; foreign nations\n",
            "None\n"
          ]
        }
      ]
    },
    {
      "cell_type": "markdown",
      "source": [
        "Calculating mutual information"
      ],
      "metadata": {
        "id": "_0NPqXmrteF3"
      }
    },
    {
      "cell_type": "code",
      "source": [
        "text = ' '.join(text4.tokens)\n",
        "vocab = len(set(text4))\n",
        "hg = text.count('Old World')/vocab\n",
        "print(\"p('Old World') = \",hg )\n",
        "h = text.count('Old')/vocab\n",
        "print(\"p(Old) = \", h)\n",
        "g = text.count('World')/vocab\n",
        "print('p(World) = ', g)\n",
        "pmi = math.log2(hg / (h * g))\n",
        "print('pmi = ', pmi)"
      ],
      "metadata": {
        "colab": {
          "base_uri": "https://localhost:8080/"
        },
        "id": "STP1sMc6tc59",
        "outputId": "fadbf0d5-4583-4591-c886-3f1431c8ea5a"
      },
      "execution_count": 71,
      "outputs": [
        {
          "output_type": "stream",
          "name": "stdout",
          "text": [
            "p('Old World') =  0.000997506234413965\n",
            "p(Old) =  0.0010972568578553616\n",
            "p(World) =  0.0017955112219451373\n",
            "pmi =  8.983886091037398\n"
          ]
        }
      ]
    },
    {
      "cell_type": "markdown",
      "source": [
        "The mutual information formula returned a relativily high pmi therefore it is likely that 'Old World' is a collocation. I think the mutual information formula worked as intended and correctly indentified 'Old World' as a collocation."
      ],
      "metadata": {
        "id": "orUuJNFXvVS9"
      }
    }
  ]
}