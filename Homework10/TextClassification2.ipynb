{
  "nbformat": 4,
  "nbformat_minor": 0,
  "metadata": {
    "colab": {
      "provenance": [],
      "gpuType": "T4"
    },
    "kernelspec": {
      "name": "python3",
      "display_name": "Python 3"
    },
    "language_info": {
      "name": "python"
    },
    "accelerator": "GPU",
    "gpuClass": "standard"
  },
  "cells": [
    {
      "cell_type": "markdown",
      "source": [
        "## Classifying Tweets as written by a Male or Female "
      ],
      "metadata": {
        "id": "eaE9tfFL7sUP"
      }
    },
    {
      "cell_type": "markdown",
      "source": [
        "**Sequential Network Model**"
      ],
      "metadata": {
        "id": "TvHKUknsguRS"
      }
    },
    {
      "cell_type": "code",
      "execution_count": 62,
      "metadata": {
        "id": "FfrQs3jjc5eJ"
      },
      "outputs": [],
      "source": [
        "# some necessary packages\n",
        "import tensorflow as tf\n",
        "from tensorflow.keras.preprocessing.text import Tokenizer\n",
        "from tensorflow.keras import layers, models\n",
        "from tensorflow.keras.callbacks import EarlyStopping\n",
        "\n",
        "from sklearn.preprocessing import LabelEncoder\n",
        "import pickle\n",
        "import numpy as np\n",
        "import pandas as pd\n",
        "\n",
        "# set seed for reproducibility\n",
        "np.random.seed(1234)"
      ]
    },
    {
      "cell_type": "code",
      "source": [
        "df = pd.read_csv('twit.csv', header=0, usecols=[5,19], encoding='latin-1')\n",
        "\n",
        "\n",
        "# remove all entries with unknown and brand as gender\n",
        "df = df[df['gender'] != 'unknown']\n",
        "df = df[df['gender'] != 'brand']\n",
        "\n",
        "# drop nan values\n",
        "df.dropna(inplace=True,axis=0)\n",
        "\n",
        "# convert genders from female and male to 1 and 0 respectively\n",
        "df.gender = [1 if each == \"female\" else 0 for each in df.gender] \n",
        "\n",
        "\n",
        "print('rows and columns:', df.shape)\n",
        "print(df.head())"
      ],
      "metadata": {
        "id": "xFIfeqWL6xEA",
        "colab": {
          "base_uri": "https://localhost:8080/"
        },
        "outputId": "4e0a2d58-575b-4819-bf81-87d913d3a90c"
      },
      "execution_count": 63,
      "outputs": [
        {
          "output_type": "stream",
          "name": "stdout",
          "text": [
            "rows and columns: (12894, 2)\n",
            "   gender                                               text\n",
            "0       0  Robbie E Responds To Critics After Win Against...\n",
            "1       0  ÛÏIt felt like they were my friends and I was...\n",
            "2       0  i absolutely adore when louis starts the songs...\n",
            "3       0  Hi @JordanSpieth - Looking at the url - do you...\n",
            "4       1  Watching Neighbours on Sky+ catching up with t...\n"
          ]
        }
      ]
    },
    {
      "cell_type": "code",
      "source": [
        "# split df into train and test\n",
        "i = np.random.rand(len(df)) < 0.8\n",
        "train = df[i]\n",
        "test = df[~i]\n",
        "print(\"train data size: \", train.shape)\n",
        "print(\"test data size: \", test.shape)"
      ],
      "metadata": {
        "id": "cVtGvB4c7rA0",
        "colab": {
          "base_uri": "https://localhost:8080/"
        },
        "outputId": "fc149480-7323-41fe-a1dd-9992b1c5597c"
      },
      "execution_count": 64,
      "outputs": [
        {
          "output_type": "stream",
          "name": "stdout",
          "text": [
            "train data size:  (10326, 2)\n",
            "test data size:  (2568, 2)\n"
          ]
        }
      ]
    },
    {
      "cell_type": "code",
      "source": [
        "# set up X and Y\n",
        "num_labels = 2\n",
        "vocab_size = 25000\n",
        "batch_size = 350\n",
        "\n",
        "# fit the tokenizer on the training data\n",
        "tokenizer = Tokenizer(num_words=vocab_size)\n",
        "tokenizer.fit_on_texts(train.text)\n",
        "\n",
        "x_train = tokenizer.texts_to_matrix(train.text, mode='tfidf')\n",
        "x_test = tokenizer.texts_to_matrix(test.text, mode='tfidf')\n",
        "\n",
        "encoder = LabelEncoder()\n",
        "encoder.fit(train.gender)\n",
        "y_train = encoder.transform(train.gender)\n",
        "y_test = encoder.transform(test.gender)\n",
        "\n",
        "# check shape\n",
        "print(\"train shapes:\", x_train.shape, y_train.shape)\n",
        "print(\"test shapes:\", x_test.shape, y_test.shape)\n",
        "print(\"test first five labels:\", y_test[:5])"
      ],
      "metadata": {
        "id": "NN7i-cQZ80NS",
        "colab": {
          "base_uri": "https://localhost:8080/"
        },
        "outputId": "07e0d398-eeb5-480c-89d7-d196c1ae4482"
      },
      "execution_count": 65,
      "outputs": [
        {
          "output_type": "stream",
          "name": "stdout",
          "text": [
            "train shapes: (10326, 25000) (10326,)\n",
            "test shapes: (2568, 25000) (2568,)\n",
            "test first five labels: [1 1 1 0 1]\n"
          ]
        }
      ]
    },
    {
      "cell_type": "code",
      "source": [
        "# fit model\n",
        "model = models.Sequential()\n",
        "model.add(layers.Dense(32, input_dim=vocab_size, kernel_initializer='normal', activation='relu'))\n",
        "model.add(layers.Dense(1, kernel_initializer='normal', activation='sigmoid'))\n",
        " \n",
        "model.compile(loss='binary_crossentropy',\n",
        "              optimizer='adam',\n",
        "              metrics=['accuracy'])\n",
        " \n",
        " # Added early stoppage to prevent overfitting\n",
        "early_stopping = EarlyStopping(\n",
        "    min_delta=0.001, # min change in metrics\n",
        "    patience=8,     # min epochs \n",
        "    restore_best_weights=True,\n",
        ")\n",
        "\n",
        "history = model.fit(x_train, y_train, callbacks=[early_stopping],\n",
        "                    batch_size=batch_size,\n",
        "                    epochs=30,\n",
        "                    verbose=1,\n",
        "                    validation_split=0.1)"
      ],
      "metadata": {
        "id": "gEWCyamq9U_O",
        "colab": {
          "base_uri": "https://localhost:8080/"
        },
        "outputId": "c933a8a8-33eb-4536-bfe4-ff3a5e101566"
      },
      "execution_count": 66,
      "outputs": [
        {
          "output_type": "stream",
          "name": "stdout",
          "text": [
            "Epoch 1/30\n",
            "27/27 [==============================] - 3s 60ms/step - loss: 0.6898 - accuracy: 0.5317 - val_loss: 0.6778 - val_accuracy: 0.5983\n",
            "Epoch 2/30\n",
            "27/27 [==============================] - 1s 34ms/step - loss: 0.6181 - accuracy: 0.7599 - val_loss: 0.6491 - val_accuracy: 0.6350\n",
            "Epoch 3/30\n",
            "27/27 [==============================] - 1s 27ms/step - loss: 0.4894 - accuracy: 0.8597 - val_loss: 0.6241 - val_accuracy: 0.6360\n",
            "Epoch 4/30\n",
            "27/27 [==============================] - 1s 29ms/step - loss: 0.3394 - accuracy: 0.9176 - val_loss: 0.6276 - val_accuracy: 0.6409\n",
            "Epoch 5/30\n",
            "27/27 [==============================] - 1s 31ms/step - loss: 0.2249 - accuracy: 0.9553 - val_loss: 0.6510 - val_accuracy: 0.6409\n",
            "Epoch 6/30\n",
            "27/27 [==============================] - 1s 27ms/step - loss: 0.1522 - accuracy: 0.9732 - val_loss: 0.6861 - val_accuracy: 0.6360\n",
            "Epoch 7/30\n",
            "27/27 [==============================] - 1s 28ms/step - loss: 0.1077 - accuracy: 0.9839 - val_loss: 0.7220 - val_accuracy: 0.6341\n",
            "Epoch 8/30\n",
            "27/27 [==============================] - 1s 28ms/step - loss: 0.0795 - accuracy: 0.9905 - val_loss: 0.7589 - val_accuracy: 0.6331\n",
            "Epoch 9/30\n",
            "27/27 [==============================] - 1s 29ms/step - loss: 0.0607 - accuracy: 0.9934 - val_loss: 0.7923 - val_accuracy: 0.6321\n",
            "Epoch 10/30\n",
            "27/27 [==============================] - 1s 29ms/step - loss: 0.0480 - accuracy: 0.9952 - val_loss: 0.8276 - val_accuracy: 0.6321\n",
            "Epoch 11/30\n",
            "27/27 [==============================] - 1s 28ms/step - loss: 0.0388 - accuracy: 0.9963 - val_loss: 0.8586 - val_accuracy: 0.6302\n"
          ]
        }
      ]
    },
    {
      "cell_type": "code",
      "source": [
        "# evaluate\n",
        "score = model.evaluate(x_test, y_test, batch_size=batch_size, verbose=1)\n",
        "print('Accuracy: ', score[1])"
      ],
      "metadata": {
        "id": "uBXEPFGe94uO",
        "colab": {
          "base_uri": "https://localhost:8080/"
        },
        "outputId": "c8976828-d977-42af-c3e5-0fded3f1be38"
      },
      "execution_count": 67,
      "outputs": [
        {
          "output_type": "stream",
          "name": "stdout",
          "text": [
            "8/8 [==============================] - 0s 21ms/step - loss: 0.6555 - accuracy: 0.6180\n",
            "Accuracy:  0.6179906725883484\n"
          ]
        }
      ]
    },
    {
      "cell_type": "code",
      "source": [
        "print(score)"
      ],
      "metadata": {
        "colab": {
          "base_uri": "https://localhost:8080/"
        },
        "id": "LsYnxu7Q4gyE",
        "outputId": "44efb17a-2f30-4905-843c-697ef4c692fe"
      },
      "execution_count": 68,
      "outputs": [
        {
          "output_type": "stream",
          "name": "stdout",
          "text": [
            "[0.6554991602897644, 0.6179906725883484]\n"
          ]
        }
      ]
    },
    {
      "cell_type": "code",
      "source": [
        "# get predictions so we can calculate more metrics\n",
        "pred = model.predict(x_test)\n",
        "pred_labels = [1 if p>0.5 else 0 for p in pred]"
      ],
      "metadata": {
        "colab": {
          "base_uri": "https://localhost:8080/"
        },
        "id": "AHnyTa_l8hnT",
        "outputId": "4caa3c75-9b75-4ec2-d30b-1ba5c0e8b48b"
      },
      "execution_count": 69,
      "outputs": [
        {
          "output_type": "stream",
          "name": "stdout",
          "text": [
            "81/81 [==============================] - 0s 3ms/step\n"
          ]
        }
      ]
    },
    {
      "cell_type": "code",
      "source": [
        "pred[:10]"
      ],
      "metadata": {
        "colab": {
          "base_uri": "https://localhost:8080/"
        },
        "id": "QtHByL3K8jJm",
        "outputId": "0b4d6494-0c9e-48f8-c175-91241369ac57"
      },
      "execution_count": 70,
      "outputs": [
        {
          "output_type": "execute_result",
          "data": {
            "text/plain": [
              "array([[0.36923313],\n",
              "       [0.5102895 ],\n",
              "       [0.6064557 ],\n",
              "       [0.24041091],\n",
              "       [0.57609755],\n",
              "       [0.43390504],\n",
              "       [0.5763473 ],\n",
              "       [0.24579242],\n",
              "       [0.44657132],\n",
              "       [0.6130683 ]], dtype=float32)"
            ]
          },
          "metadata": {},
          "execution_count": 70
        }
      ]
    },
    {
      "cell_type": "code",
      "source": [
        "from sklearn.metrics import accuracy_score, precision_score, recall_score, f1_score\n",
        "print('accuracy score: ', accuracy_score(y_test, pred_labels))\n",
        "print('precision score: ', precision_score(y_test, pred_labels))\n",
        "print('recall score: ', recall_score(y_test, pred_labels))\n",
        "print('f1 score: ', f1_score(y_test, pred_labels))"
      ],
      "metadata": {
        "colab": {
          "base_uri": "https://localhost:8080/"
        },
        "id": "0JhaaKQe8k53",
        "outputId": "f59d10e9-8c42-42ba-ebfa-689de922d8ed"
      },
      "execution_count": 71,
      "outputs": [
        {
          "output_type": "stream",
          "name": "stdout",
          "text": [
            "accuracy score:  0.6179906542056075\n",
            "precision score:  0.6358897989575577\n",
            "recall score:  0.6344725111441307\n",
            "f1 score:  0.6351803644477502\n"
          ]
        }
      ]
    },
    {
      "cell_type": "markdown",
      "source": [
        "**Recurrent NN**"
      ],
      "metadata": {
        "id": "0zNn02dGg4m0"
      }
    },
    {
      "cell_type": "code",
      "source": [
        "from tensorflow.keras import preprocessing\n",
        "max_features = 10000\n",
        "maxlen = 500\n",
        "batch_size = 500\n",
        "\n",
        "# pad the data to maxlen\n",
        "x_train2 = preprocessing.sequence.pad_sequences(x_train, maxlen=maxlen)\n",
        "x_test2 = preprocessing.sequence.pad_sequences(x_test, maxlen=maxlen)\n",
        "\n",
        "# build a Sequential model with Embedding and SimpleRNN layers\n",
        "\n",
        "model2 = models.Sequential()\n",
        "model2.add(layers.Embedding(max_features, 32))\n",
        "model2.add(layers.SimpleRNN(32))\n",
        "model2.add(layers.Dense(1, activation='sigmoid'))"
      ],
      "metadata": {
        "id": "h0xsB8N4g5Vl"
      },
      "execution_count": 72,
      "outputs": []
    },
    {
      "cell_type": "code",
      "source": [
        "model2.summary()"
      ],
      "metadata": {
        "colab": {
          "base_uri": "https://localhost:8080/"
        },
        "id": "Q3_2crBgwtDR",
        "outputId": "83fd5f8a-dc56-493c-9a2b-30fa922b88e9"
      },
      "execution_count": 73,
      "outputs": [
        {
          "output_type": "stream",
          "name": "stdout",
          "text": [
            "Model: \"sequential_10\"\n",
            "_________________________________________________________________\n",
            " Layer (type)                Output Shape              Param #   \n",
            "=================================================================\n",
            " embedding_7 (Embedding)     (None, None, 32)          320000    \n",
            "                                                                 \n",
            " simple_rnn_3 (SimpleRNN)    (None, 32)                2080      \n",
            "                                                                 \n",
            " dense_15 (Dense)            (None, 1)                 33        \n",
            "                                                                 \n",
            "=================================================================\n",
            "Total params: 322,113\n",
            "Trainable params: 322,113\n",
            "Non-trainable params: 0\n",
            "_________________________________________________________________\n"
          ]
        }
      ]
    },
    {
      "cell_type": "code",
      "source": [
        "# compile\n",
        "model2.compile(optimizer='rmsprop',\n",
        "              loss='binary_crossentropy',\n",
        "              metrics=['accuracy'])"
      ],
      "metadata": {
        "id": "kXEUy7InwxvD"
      },
      "execution_count": 74,
      "outputs": []
    },
    {
      "cell_type": "code",
      "source": [
        "# train\n",
        "\n",
        "history2 = model2.fit(x_train2,\n",
        "                    y_train,\n",
        "                    epochs=10,\n",
        "                    batch_size=batch_size,\n",
        "                    validation_split=0.2)"
      ],
      "metadata": {
        "colab": {
          "base_uri": "https://localhost:8080/"
        },
        "id": "9eFVxXBWw0mK",
        "outputId": "4f18c8d6-56cb-44ee-fc70-1eef5e38c22b"
      },
      "execution_count": 75,
      "outputs": [
        {
          "output_type": "stream",
          "name": "stdout",
          "text": [
            "Epoch 1/10\n",
            "17/17 [==============================] - 12s 529ms/step - loss: 0.6942 - accuracy: 0.5064 - val_loss: 0.6902 - val_accuracy: 0.5537\n",
            "Epoch 2/10\n",
            "17/17 [==============================] - 10s 582ms/step - loss: 0.6931 - accuracy: 0.5054 - val_loss: 0.6919 - val_accuracy: 0.5552\n",
            "Epoch 3/10\n",
            "17/17 [==============================] - 11s 640ms/step - loss: 0.6933 - accuracy: 0.5052 - val_loss: 0.6916 - val_accuracy: 0.5537\n",
            "Epoch 4/10\n",
            "17/17 [==============================] - 10s 601ms/step - loss: 0.6932 - accuracy: 0.5035 - val_loss: 0.6907 - val_accuracy: 0.5542\n",
            "Epoch 5/10\n",
            "17/17 [==============================] - 10s 576ms/step - loss: 0.6932 - accuracy: 0.5038 - val_loss: 0.6963 - val_accuracy: 0.4463\n",
            "Epoch 6/10\n",
            "17/17 [==============================] - 9s 495ms/step - loss: 0.6933 - accuracy: 0.4994 - val_loss: 0.6906 - val_accuracy: 0.5542\n",
            "Epoch 7/10\n",
            "17/17 [==============================] - 10s 578ms/step - loss: 0.6933 - accuracy: 0.5062 - val_loss: 0.6919 - val_accuracy: 0.5542\n",
            "Epoch 8/10\n",
            "17/17 [==============================] - 10s 585ms/step - loss: 0.6932 - accuracy: 0.5030 - val_loss: 0.6911 - val_accuracy: 0.5532\n",
            "Epoch 9/10\n",
            "17/17 [==============================] - 10s 587ms/step - loss: 0.6932 - accuracy: 0.5059 - val_loss: 0.6934 - val_accuracy: 0.4448\n",
            "Epoch 10/10\n",
            "17/17 [==============================] - 8s 498ms/step - loss: 0.6931 - accuracy: 0.5064 - val_loss: 0.6912 - val_accuracy: 0.5528\n"
          ]
        }
      ]
    },
    {
      "cell_type": "code",
      "source": [
        "from sklearn.metrics import classification_report\n",
        "\n",
        "pred2 = model2.predict(x_test2)\n",
        "pred2 = [1.0 if p>= 0.5 else 0.0 for p in pred2]\n",
        "print(classification_report(y_test, pred2))"
      ],
      "metadata": {
        "id": "pTzOv9tixDJA",
        "colab": {
          "base_uri": "https://localhost:8080/"
        },
        "outputId": "4430487b-dcce-40c9-b162-bf122ce806d7"
      },
      "execution_count": 76,
      "outputs": [
        {
          "output_type": "stream",
          "name": "stdout",
          "text": [
            "81/81 [==============================] - 5s 55ms/step\n",
            "              precision    recall  f1-score   support\n",
            "\n",
            "           0       0.33      0.00      0.00      1222\n",
            "           1       0.52      1.00      0.69      1346\n",
            "\n",
            "    accuracy                           0.52      2568\n",
            "   macro avg       0.43      0.50      0.34      2568\n",
            "weighted avg       0.43      0.52      0.36      2568\n",
            "\n"
          ]
        }
      ]
    },
    {
      "cell_type": "markdown",
      "source": [
        "**Convolutional NN**"
      ],
      "metadata": {
        "id": "j8jYML1AH0jv"
      }
    },
    {
      "cell_type": "code",
      "source": [
        "max_features = 10000\n",
        "maxlen = 25000\n",
        "batch_size = 100\n",
        "\n",
        "x_train3 = preprocessing.sequence.pad_sequences(x_train, maxlen=maxlen)\n",
        "x_test3 = preprocessing.sequence.pad_sequences(x_test, maxlen=maxlen)"
      ],
      "metadata": {
        "id": "Tg1tWWY6H1Ih"
      },
      "execution_count": 77,
      "outputs": []
    },
    {
      "cell_type": "code",
      "source": [
        "x_train3.shape"
      ],
      "metadata": {
        "colab": {
          "base_uri": "https://localhost:8080/"
        },
        "id": "hQBy2zX2b1xz",
        "outputId": "d37c7f08-adf9-4684-8bee-da10fb33a354"
      },
      "execution_count": 78,
      "outputs": [
        {
          "output_type": "execute_result",
          "data": {
            "text/plain": [
              "(10326, 25000)"
            ]
          },
          "metadata": {},
          "execution_count": 78
        }
      ]
    },
    {
      "cell_type": "code",
      "source": [
        "# build a Sequential model 1D convnet\n",
        "\n",
        "model3 = models.Sequential()\n",
        "model3.add(layers.Embedding(max_features, 128, input_length=maxlen)) \n",
        "model3.add(layers.Conv1D(32, 7, activation='relu')) \n",
        "model3.add(layers.MaxPooling1D(5)) \n",
        "model3.add(layers.Conv1D(32, 7, activation='relu')) \n",
        "model3.add(layers.GlobalMaxPooling1D())\n",
        "model3.add(layers.Dense(1))"
      ],
      "metadata": {
        "id": "QyzMHkCrKCrP"
      },
      "execution_count": 79,
      "outputs": []
    },
    {
      "cell_type": "code",
      "source": [
        "model3.summary()"
      ],
      "metadata": {
        "id": "LmuICyV7KEk_",
        "colab": {
          "base_uri": "https://localhost:8080/"
        },
        "outputId": "4d3a62db-4784-4231-8104-dd781155b07e"
      },
      "execution_count": 80,
      "outputs": [
        {
          "output_type": "stream",
          "name": "stdout",
          "text": [
            "Model: \"sequential_11\"\n",
            "_________________________________________________________________\n",
            " Layer (type)                Output Shape              Param #   \n",
            "=================================================================\n",
            " embedding_8 (Embedding)     (None, 25000, 128)        1280000   \n",
            "                                                                 \n",
            " conv1d_4 (Conv1D)           (None, 24994, 32)         28704     \n",
            "                                                                 \n",
            " max_pooling1d_2 (MaxPooling  (None, 4998, 32)         0         \n",
            " 1D)                                                             \n",
            "                                                                 \n",
            " conv1d_5 (Conv1D)           (None, 4992, 32)          7200      \n",
            "                                                                 \n",
            " global_max_pooling1d_2 (Glo  (None, 32)               0         \n",
            " balMaxPooling1D)                                                \n",
            "                                                                 \n",
            " dense_16 (Dense)            (None, 1)                 33        \n",
            "                                                                 \n",
            "=================================================================\n",
            "Total params: 1,315,937\n",
            "Trainable params: 1,315,937\n",
            "Non-trainable params: 0\n",
            "_________________________________________________________________\n"
          ]
        }
      ]
    },
    {
      "cell_type": "code",
      "source": [
        "# compile\n",
        "\n",
        "model3.compile(optimizer=tf.keras.optimizers.RMSprop(lr=1e-4),  # set learning rate\n",
        "              loss='binary_crossentropy',\n",
        "              metrics=['accuracy'])"
      ],
      "metadata": {
        "id": "qEn6XpIsKFUi",
        "colab": {
          "base_uri": "https://localhost:8080/"
        },
        "outputId": "4b2840dc-657f-409c-c541-2bdc2e51da7b"
      },
      "execution_count": 81,
      "outputs": [
        {
          "output_type": "stream",
          "name": "stderr",
          "text": [
            "WARNING:absl:`lr` is deprecated in Keras optimizer, please use `learning_rate` or use the legacy optimizer, e.g.,tf.keras.optimizers.legacy.RMSprop.\n"
          ]
        }
      ]
    },
    {
      "cell_type": "code",
      "source": [
        "# train\n",
        "\n",
        "history = model.fit(x_train3,\n",
        "                    y_train,\n",
        "                    epochs=10,\n",
        "                    batch_size=batch_size,\n",
        "                    validation_split=0.2)"
      ],
      "metadata": {
        "id": "3JZUJaubKME4",
        "colab": {
          "base_uri": "https://localhost:8080/"
        },
        "outputId": "a50634e1-4ef8-4e7b-bfe6-f675f4261d68"
      },
      "execution_count": 82,
      "outputs": [
        {
          "output_type": "stream",
          "name": "stdout",
          "text": [
            "Epoch 1/10\n",
            "83/83 [==============================] - 2s 15ms/step - loss: 0.3503 - accuracy: 0.8959 - val_loss: 0.4879 - val_accuracy: 0.7614\n",
            "Epoch 2/10\n",
            "83/83 [==============================] - 1s 10ms/step - loss: 0.1305 - accuracy: 0.9699 - val_loss: 0.5377 - val_accuracy: 0.7425\n",
            "Epoch 3/10\n",
            "83/83 [==============================] - 1s 10ms/step - loss: 0.0673 - accuracy: 0.9877 - val_loss: 0.5861 - val_accuracy: 0.7401\n",
            "Epoch 4/10\n",
            "83/83 [==============================] - 1s 10ms/step - loss: 0.0402 - accuracy: 0.9949 - val_loss: 0.6370 - val_accuracy: 0.7275\n",
            "Epoch 5/10\n",
            "83/83 [==============================] - 1s 10ms/step - loss: 0.0273 - accuracy: 0.9969 - val_loss: 0.6769 - val_accuracy: 0.7289\n",
            "Epoch 6/10\n",
            "83/83 [==============================] - 1s 10ms/step - loss: 0.0195 - accuracy: 0.9979 - val_loss: 0.7163 - val_accuracy: 0.7270\n",
            "Epoch 7/10\n",
            "83/83 [==============================] - 1s 12ms/step - loss: 0.0153 - accuracy: 0.9979 - val_loss: 0.7500 - val_accuracy: 0.7227\n",
            "Epoch 8/10\n",
            "83/83 [==============================] - 1s 10ms/step - loss: 0.0123 - accuracy: 0.9982 - val_loss: 0.7835 - val_accuracy: 0.7207\n",
            "Epoch 9/10\n",
            "83/83 [==============================] - 1s 14ms/step - loss: 0.0100 - accuracy: 0.9983 - val_loss: 0.8143 - val_accuracy: 0.7168\n",
            "Epoch 10/10\n",
            "83/83 [==============================] - 1s 12ms/step - loss: 0.0090 - accuracy: 0.9984 - val_loss: 0.8406 - val_accuracy: 0.7154\n"
          ]
        }
      ]
    },
    {
      "cell_type": "code",
      "source": [
        "pred3 = model3.predict(x_test3)\n",
        "pred3 = [1.0 if p>= 0.5 else 0.0 for p in pred3]\n",
        "print(classification_report(y_test, pred3))"
      ],
      "metadata": {
        "id": "XDNg3QSOKqDS",
        "colab": {
          "base_uri": "https://localhost:8080/"
        },
        "outputId": "15b215cc-bb92-4068-9874-e7d2e6c6f440"
      },
      "execution_count": 83,
      "outputs": [
        {
          "output_type": "stream",
          "name": "stdout",
          "text": [
            "81/81 [==============================] - 2s 29ms/step\n",
            "              precision    recall  f1-score   support\n",
            "\n",
            "           0       0.48      1.00      0.64      1222\n",
            "           1       0.00      0.00      0.00      1346\n",
            "\n",
            "    accuracy                           0.48      2568\n",
            "   macro avg       0.24      0.50      0.32      2568\n",
            "weighted avg       0.23      0.48      0.31      2568\n",
            "\n"
          ]
        },
        {
          "output_type": "stream",
          "name": "stderr",
          "text": [
            "/usr/local/lib/python3.9/dist-packages/sklearn/metrics/_classification.py:1344: UndefinedMetricWarning: Precision and F-score are ill-defined and being set to 0.0 in labels with no predicted samples. Use `zero_division` parameter to control this behavior.\n",
            "  _warn_prf(average, modifier, msg_start, len(result))\n",
            "/usr/local/lib/python3.9/dist-packages/sklearn/metrics/_classification.py:1344: UndefinedMetricWarning: Precision and F-score are ill-defined and being set to 0.0 in labels with no predicted samples. Use `zero_division` parameter to control this behavior.\n",
            "  _warn_prf(average, modifier, msg_start, len(result))\n",
            "/usr/local/lib/python3.9/dist-packages/sklearn/metrics/_classification.py:1344: UndefinedMetricWarning: Precision and F-score are ill-defined and being set to 0.0 in labels with no predicted samples. Use `zero_division` parameter to control this behavior.\n",
            "  _warn_prf(average, modifier, msg_start, len(result))\n"
          ]
        }
      ]
    },
    {
      "cell_type": "markdown",
      "source": [
        "**Embedding**"
      ],
      "metadata": {
        "id": "Rh2QgBtpeuUS"
      }
    },
    {
      "cell_type": "code",
      "source": [
        "maxlen = 20\n",
        "\n",
        "x_train4 = preprocessing.sequence.pad_sequences(x_train, maxlen=maxlen)\n",
        "x_test4 = preprocessing.sequence.pad_sequences(x_test, maxlen=maxlen)"
      ],
      "metadata": {
        "id": "9lpoBvkQev47"
      },
      "execution_count": 84,
      "outputs": []
    },
    {
      "cell_type": "code",
      "source": [
        "# set up the Embedding layer in a Sequential model\n",
        "\n",
        "model4 = models.Sequential()\n",
        "model4.add(layers.Embedding(max_features, 8, input_length=maxlen))\n",
        "model4.add(layers.Flatten())\n",
        "model4.add(layers.Dense(16, activation='relu'))\n",
        "model4.add(layers.Dense(1, activation='sigmoid'))\n",
        "\n",
        "model4.compile(optimizer='rmsprop', loss='binary_crossentropy', metrics=['acc'])\n",
        "model4.summary()\n",
        "\n",
        "history4 = model4.fit(x_train4, y_train, epochs=10, batch_size=batch_size, validation_split=0.2)"
      ],
      "metadata": {
        "colab": {
          "base_uri": "https://localhost:8080/"
        },
        "id": "y-FR7lisfCmE",
        "outputId": "009038a2-34fd-4960-8f50-51c4444fde0c"
      },
      "execution_count": 85,
      "outputs": [
        {
          "output_type": "stream",
          "name": "stdout",
          "text": [
            "Model: \"sequential_12\"\n",
            "_________________________________________________________________\n",
            " Layer (type)                Output Shape              Param #   \n",
            "=================================================================\n",
            " embedding_9 (Embedding)     (None, 20, 8)             80000     \n",
            "                                                                 \n",
            " flatten_2 (Flatten)         (None, 160)               0         \n",
            "                                                                 \n",
            " dense_17 (Dense)            (None, 16)                2576      \n",
            "                                                                 \n",
            " dense_18 (Dense)            (None, 1)                 17        \n",
            "                                                                 \n",
            "=================================================================\n",
            "Total params: 82,593\n",
            "Trainable params: 82,593\n",
            "Non-trainable params: 0\n",
            "_________________________________________________________________\n",
            "Epoch 1/10\n",
            "83/83 [==============================] - 2s 7ms/step - loss: 0.6933 - acc: 0.5013 - val_loss: 0.6922 - val_acc: 0.5542\n",
            "Epoch 2/10\n",
            "83/83 [==============================] - 0s 5ms/step - loss: 0.6930 - acc: 0.5096 - val_loss: 0.6919 - val_acc: 0.5542\n",
            "Epoch 3/10\n",
            "83/83 [==============================] - 0s 5ms/step - loss: 0.6930 - acc: 0.5096 - val_loss: 0.6917 - val_acc: 0.5542\n",
            "Epoch 4/10\n",
            "83/83 [==============================] - 0s 5ms/step - loss: 0.6930 - acc: 0.5096 - val_loss: 0.6916 - val_acc: 0.5542\n",
            "Epoch 5/10\n",
            "83/83 [==============================] - 0s 5ms/step - loss: 0.6930 - acc: 0.5096 - val_loss: 0.6915 - val_acc: 0.5542\n",
            "Epoch 6/10\n",
            "83/83 [==============================] - 0s 5ms/step - loss: 0.6930 - acc: 0.5096 - val_loss: 0.6914 - val_acc: 0.5542\n",
            "Epoch 7/10\n",
            "83/83 [==============================] - 0s 5ms/step - loss: 0.6930 - acc: 0.5096 - val_loss: 0.6913 - val_acc: 0.5542\n",
            "Epoch 8/10\n",
            "83/83 [==============================] - 0s 5ms/step - loss: 0.6930 - acc: 0.5096 - val_loss: 0.6913 - val_acc: 0.5542\n",
            "Epoch 9/10\n",
            "83/83 [==============================] - 0s 5ms/step - loss: 0.6930 - acc: 0.5096 - val_loss: 0.6913 - val_acc: 0.5542\n",
            "Epoch 10/10\n",
            "83/83 [==============================] - 0s 5ms/step - loss: 0.6930 - acc: 0.5096 - val_loss: 0.6912 - val_acc: 0.5542\n"
          ]
        }
      ]
    },
    {
      "cell_type": "code",
      "source": [
        "pred4 = model4.predict(x_test4)\n",
        "pred4 = [1.0 if p>= 0.5 else 0.0 for p in pred4]\n",
        "print(classification_report(y_test, pred4))"
      ],
      "metadata": {
        "colab": {
          "base_uri": "https://localhost:8080/"
        },
        "id": "iq_0BsBHBa5Z",
        "outputId": "eabc0b32-314c-4383-aa09-efd7f600bec9"
      },
      "execution_count": 86,
      "outputs": [
        {
          "output_type": "stream",
          "name": "stdout",
          "text": [
            "81/81 [==============================] - 0s 2ms/step\n",
            "              precision    recall  f1-score   support\n",
            "\n",
            "           0       0.00      0.00      0.00      1222\n",
            "           1       0.52      1.00      0.69      1346\n",
            "\n",
            "    accuracy                           0.52      2568\n",
            "   macro avg       0.26      0.50      0.34      2568\n",
            "weighted avg       0.27      0.52      0.36      2568\n",
            "\n"
          ]
        },
        {
          "output_type": "stream",
          "name": "stderr",
          "text": [
            "/usr/local/lib/python3.9/dist-packages/sklearn/metrics/_classification.py:1344: UndefinedMetricWarning: Precision and F-score are ill-defined and being set to 0.0 in labels with no predicted samples. Use `zero_division` parameter to control this behavior.\n",
            "  _warn_prf(average, modifier, msg_start, len(result))\n",
            "/usr/local/lib/python3.9/dist-packages/sklearn/metrics/_classification.py:1344: UndefinedMetricWarning: Precision and F-score are ill-defined and being set to 0.0 in labels with no predicted samples. Use `zero_division` parameter to control this behavior.\n",
            "  _warn_prf(average, modifier, msg_start, len(result))\n",
            "/usr/local/lib/python3.9/dist-packages/sklearn/metrics/_classification.py:1344: UndefinedMetricWarning: Precision and F-score are ill-defined and being set to 0.0 in labels with no predicted samples. Use `zero_division` parameter to control this behavior.\n",
            "  _warn_prf(average, modifier, msg_start, len(result))\n"
          ]
        }
      ]
    },
    {
      "cell_type": "markdown",
      "source": [
        "# Analysis"
      ],
      "metadata": {
        "id": "W6XF9P537Xiw"
      }
    },
    {
      "cell_type": "markdown",
      "source": [
        "I was at first confused by the low percentage accuracy I got when looking at the results for these models.  I then went on kaggle and looked at other user's notebooks using the same dataset and the low accuracy seemed to actually be normal. I assume this is a result of the problem inherntly being complex making it hard for the networks to pick up on patterns. Comparing the accuracy of the different models it seemd that the sequential model performed the best with a 61% accuracy while, RNN, CNN, and embedding approaches all produced around a 50% accuracy. RNN innitially performed better than CNN but it was taking hours to complete so I had to increase the batch size. After I did some research it seems that sequential can perform better than RNN and CNN when input data has no temporal or spatial structure. Meaning that the order of the words dont matter as much as word choice. I think this result makes sense because there has been a lot of research done in how men and women text differently, for example women are 3.5x more likely to use emoticons. This fact would most likely transfer to twitter as well."
      ],
      "metadata": {
        "id": "VnkLBoQi6X2K"
      }
    }
  ]
}